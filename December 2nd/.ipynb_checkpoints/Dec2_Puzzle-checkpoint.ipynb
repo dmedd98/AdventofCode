{
 "cells": [
  {
   "cell_type": "markdown",
   "metadata": {},
   "source": [
    "## --- Day 2: Dive! ---"
   ]
  },
  {
   "cell_type": "markdown",
   "metadata": {},
   "source": [
    "It seems like the submarine can take a series of commands like forward 1, down 2, or up 3:\n",
    "\n",
    " -forward X increases the horizontal position by X units. <br>\n",
    " -down X increases the depth by X units. <br>\n",
    " -up X decreases the depth by X units. <br>\n"
   ]
  },
  {
   "cell_type": "markdown",
   "metadata": {},
   "source": [
    "### Part 1:"
   ]
  },
  {
   "cell_type": "markdown",
   "metadata": {},
   "source": [
    "First lets get the example correct"
   ]
  },
  {
   "cell_type": "code",
   "execution_count": 37,
   "metadata": {
    "scrolled": true
   },
   "outputs": [
    {
     "data": {
      "text/plain": [
       "['forward 5', 'down 5', 'forward 8', 'up 3', 'down 8', 'forward 2']"
      ]
     },
     "execution_count": 37,
     "metadata": {},
     "output_type": "execute_result"
    }
   ],
   "source": [
    "with open('example.txt') as f:\n",
    "    ex_lines = f.readlines()\n",
    "\n",
    "lst = [x.strip() for x in ex_lines]\n",
    "lst"
   ]
  },
  {
   "cell_type": "code",
   "execution_count": 38,
   "metadata": {},
   "outputs": [],
   "source": [
    "lsts = [x.split() for x in lst]\n",
    "\n",
    "drcts = []\n",
    "for lst in lsts:\n",
    "    for elem in lst:\n",
    "        drcts.append(elem)"
   ]
  },
  {
   "cell_type": "code",
   "execution_count": 39,
   "metadata": {},
   "outputs": [],
   "source": [
    "horizontal = 0\n",
    "depth = 0\n",
    "for i in range(0, int(len(drcts) / 2)):\n",
    "    if drcts[2*i] == 'forward':\n",
    "        horizontal += int(drcts[2*i+1])\n",
    "    elif drcts[2*i] == 'down':\n",
    "        depth += int(drcts[2*i+1])\n",
    "    elif drcts[2*i] == 'up':\n",
    "        depth -= int(drcts[2*i+1])\n"
   ]
  },
  {
   "cell_type": "code",
   "execution_count": 40,
   "metadata": {},
   "outputs": [
    {
     "data": {
      "text/plain": [
       "150"
      ]
     },
     "execution_count": 40,
     "metadata": {},
     "output_type": "execute_result"
    }
   ],
   "source": [
    "answer = horizontal * depth\n",
    "answer"
   ]
  },
  {
   "cell_type": "markdown",
   "metadata": {},
   "source": [
    "Now lets try it on the real input"
   ]
  },
  {
   "cell_type": "code",
   "execution_count": 53,
   "metadata": {},
   "outputs": [],
   "source": [
    "with open('input.txt') as f:\n",
    "    lines = f.readlines()\n",
    "\n",
    "lst = [x.strip() for x in lines]"
   ]
  },
  {
   "cell_type": "code",
   "execution_count": 54,
   "metadata": {},
   "outputs": [],
   "source": [
    "lsts = [x.split() for x in lst]\n",
    "\n",
    "drcts = []\n",
    "for lst in lsts:\n",
    "    for elem in lst:\n",
    "        drcts.append(elem)"
   ]
  },
  {
   "cell_type": "code",
   "execution_count": 55,
   "metadata": {},
   "outputs": [],
   "source": [
    "horizontal = 0\n",
    "depth = 0\n",
    "for i in range(0, int(len(drcts) / 2)):\n",
    "    if drcts[2*i] == 'forward':\n",
    "        horizontal += int(drcts[2*i+1])\n",
    "    elif drcts[2*i] == 'down':\n",
    "        depth += int(drcts[2*i+1])\n",
    "    elif drcts[2*i] == 'up':\n",
    "        depth -= int(drcts[2*i+1])"
   ]
  },
  {
   "cell_type": "code",
   "execution_count": 56,
   "metadata": {},
   "outputs": [
    {
     "data": {
      "text/plain": [
       "2147104"
      ]
     },
     "execution_count": 56,
     "metadata": {},
     "output_type": "execute_result"
    }
   ],
   "source": [
    "answer = horizontal * depth\n",
    "answer"
   ]
  },
  {
   "cell_type": "markdown",
   "metadata": {},
   "source": [
    "#### That's the right answer! You are one gold star closer to finding the sleigh keys."
   ]
  },
  {
   "cell_type": "markdown",
   "metadata": {},
   "source": [
    "## Part 2:"
   ]
  },
  {
   "cell_type": "markdown",
   "metadata": {},
   "source": [
    "In addition to horizontal position and depth, you'll also need to track a third value, aim, which also starts at 0. The commands also mean something entirely different than you first thought:\n",
    "\n",
    "-down X increases your aim by X units.<br>\n",
    "-up X decreases your aim by X units.<br>\n",
    "-forward X does two things: <br>\n",
    "  >  -It increases your horizontal position by X units.<br>\n",
    "  >  -It increases your depth by your aim multiplied by X."
   ]
  },
  {
   "cell_type": "markdown",
   "metadata": {},
   "source": [
    "#### Example"
   ]
  },
  {
   "cell_type": "code",
   "execution_count": 46,
   "metadata": {},
   "outputs": [
    {
     "data": {
      "text/plain": [
       "['forward 5', 'down 5', 'forward 8', 'up 3', 'down 8', 'forward 2']"
      ]
     },
     "execution_count": 46,
     "metadata": {},
     "output_type": "execute_result"
    }
   ],
   "source": [
    "with open('example.txt') as f:\n",
    "    ex_lines = f.readlines()\n",
    "\n",
    "lst = [x.strip() for x in ex_lines]\n",
    "lst"
   ]
  },
  {
   "cell_type": "code",
   "execution_count": 47,
   "metadata": {},
   "outputs": [],
   "source": [
    "lsts = [x.split() for x in lst]\n",
    "drcts = []\n",
    "for lst in lsts:\n",
    "    for elem in lst:\n",
    "        drcts.append(elem)"
   ]
  },
  {
   "cell_type": "code",
   "execution_count": 48,
   "metadata": {},
   "outputs": [],
   "source": [
    "horizontal = 0\n",
    "depth = 0\n",
    "aim = 0\n",
    "for i in range(0, int(len(drcts) / 2)):\n",
    "    if drcts[2*i] == 'forward':\n",
    "        horizontal += int(drcts[2*i+1])\n",
    "        depth = depth + (int(drcts[2*i+1]) * aim)\n",
    "    elif drcts[2*i] == 'down':\n",
    "        aim += int(drcts[2*i+1])\n",
    "    elif drcts[2*i] == 'up':\n",
    "        aim -= int(drcts[2*i+1])"
   ]
  },
  {
   "cell_type": "code",
   "execution_count": 51,
   "metadata": {},
   "outputs": [],
   "source": [
    "answer = horizontal * depth\n",
    "answer"
   ]
  },
  {
   "cell_type": "markdown",
   "metadata": {},
   "source": [
    "#### Real Deal"
   ]
  },
  {
   "cell_type": "code",
   "execution_count": 59,
   "metadata": {},
   "outputs": [],
   "source": [
    "with open('input.txt') as f:\n",
    "    lines = f.readlines()\n",
    "\n",
    "lst = [x.strip() for x in lines]"
   ]
  },
  {
   "cell_type": "code",
   "execution_count": 60,
   "metadata": {},
   "outputs": [],
   "source": [
    "lsts = [x.split() for x in lst]\n",
    "drcts = []\n",
    "for lst in lsts:\n",
    "    for elem in lst:\n",
    "        drcts.append(elem)"
   ]
  },
  {
   "cell_type": "code",
   "execution_count": 61,
   "metadata": {},
   "outputs": [],
   "source": [
    "horizontal = 0\n",
    "depth = 0\n",
    "aim = 0\n",
    "for i in range(0, int(len(drcts) / 2)):\n",
    "    if drcts[2*i] == 'forward':\n",
    "        horizontal += int(drcts[2*i+1])\n",
    "        depth = depth + (int(drcts[2*i+1]) * aim)\n",
    "    elif drcts[2*i] == 'down':\n",
    "        aim += int(drcts[2*i+1])\n",
    "    elif drcts[2*i] == 'up':\n",
    "        aim -= int(drcts[2*i+1])"
   ]
  },
  {
   "cell_type": "code",
   "execution_count": 62,
   "metadata": {},
   "outputs": [
    {
     "data": {
      "text/plain": [
       "2044620088"
      ]
     },
     "execution_count": 62,
     "metadata": {},
     "output_type": "execute_result"
    }
   ],
   "source": [
    "answer = horizontal * depth\n",
    "answer"
   ]
  },
  {
   "cell_type": "markdown",
   "metadata": {},
   "source": [
    "### That's the right answer! You are one gold star closer to finding the sleigh keys."
   ]
  }
 ],
 "metadata": {
  "kernelspec": {
   "display_name": "Python 3",
   "language": "python",
   "name": "python3"
  },
  "language_info": {
   "codemirror_mode": {
    "name": "ipython",
    "version": 3
   },
   "file_extension": ".py",
   "mimetype": "text/x-python",
   "name": "python",
   "nbconvert_exporter": "python",
   "pygments_lexer": "ipython3",
   "version": "3.8.5"
  }
 },
 "nbformat": 4,
 "nbformat_minor": 4
}
